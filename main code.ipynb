{
  "cells": [
    {
      "cell_type": "markdown",
      "metadata": {
        "id": "fbVTXDIOGaJk"
      },
      "source": [
        "# ResNeXt\n",
        "In this project based on our ResNet implementation in the project VGG-16-and-ResNet-18-comparison-for-image-classification we extend it to ResNeXT. It is expected that our accuracy should be higher than ResNet."
      ]
    },
    {
      "cell_type": "code",
      "source": [
        "import os\n",
        "import time\n",
        "import torch\n",
        "import numpy as np\n",
        "import matplotlib.pyplot as plt\n",
        "import seaborn as sns\n",
        "from torchvision import datasets, transforms\n",
        "from torch.utils.data import DataLoader, random_split\n",
        "from torch import nn, optim\n",
        "import torchvision\n",
        "from torchvision.utils import make_grid\n",
        "from sklearn.metrics import confusion_matrix, precision_recall_fscore_support\n",
        "import zipfile\n",
        "import random"
      ],
      "metadata": {
        "id": "uIINCWpnMGAo"
      },
      "execution_count": null,
      "outputs": []
    },
    {
      "cell_type": "code",
      "source": [
        "def set_seed(seed=21):\n",
        "    random.seed(seed)\n",
        "    np.random.seed(seed)\n",
        "    torch.manual_seed(seed)\n",
        "    torch.cuda.manual_seed(seed)\n",
        "    torch.cuda.manual_seed_all(seed)\n",
        "\n",
        "    torch.backends.cudnn.deterministic = True\n",
        "    torch.backends.cudnn.benchmark = False\n",
        "\n",
        "set_seed()"
      ],
      "metadata": {
        "id": "rq8umezoMJCY"
      },
      "execution_count": null,
      "outputs": []
    },
    {
      "cell_type": "code",
      "source": [
        "zip_path = 'cnn_part_2_dataset.zip'\n",
        "extract_path = 'cnn_part_2_dataset'\n",
        "if not os.path.exists(extract_path):\n",
        "    with zipfile.ZipFile(zip_path, 'r') as zip_ref:\n",
        "        zip_ref.extractall(extract_path)"
      ],
      "metadata": {
        "id": "XJkFrVUUQ6q9"
      },
      "execution_count": null,
      "outputs": []
    },
    {
      "cell_type": "code",
      "source": [
        "transform_aug = transforms.Compose([\n",
        "    transforms.Resize((64, 64)),\n",
        "    transforms.RandomHorizontalFlip(p=0.5),\n",
        "    transforms.RandomRotation(degrees=15),\n",
        "    transforms.ColorJitter(brightness=0.2, contrast=0.2, saturation=0.2, hue=0.1),\n",
        "    transforms.ToTensor(),\n",
        "    transforms.Normalize(mean=[0.485, 0.456, 0.406],\n",
        "                         std=[0.229, 0.224, 0.225])\n",
        "])\n",
        "\n",
        "aug_dataset = datasets.ImageFolder(extract_path, transform=transform_aug)"
      ],
      "metadata": {
        "id": "QlBITCrVQ6yx"
      },
      "execution_count": null,
      "outputs": []
    },
    {
      "cell_type": "code",
      "source": [
        "train_size = int(0.7 * len(aug_dataset))\n",
        "val_size = int(0.15 * len(aug_dataset))\n",
        "test_size = len(aug_dataset) - train_size - val_size\n",
        "train_set, val_set, test_set = random_split(aug_dataset, [train_size, val_size, test_size])\n"
      ],
      "metadata": {
        "id": "Vp8TSm5RQ614"
      },
      "execution_count": null,
      "outputs": []
    },
    {
      "cell_type": "code",
      "source": [
        "def get_loaders(batch_size, train_set, val_set, test_set):\n",
        "    return (\n",
        "        DataLoader(train_set, batch_size=batch_size, shuffle=True),\n",
        "        DataLoader(val_set, batch_size=batch_size, shuffle=False),\n",
        "        DataLoader(test_set, batch_size=batch_size, shuffle=False)\n",
        "    )"
      ],
      "metadata": {
        "id": "_szvZ21xRXyv"
      },
      "execution_count": null,
      "outputs": []
    },
    {
      "cell_type": "markdown",
      "metadata": {
        "id": "IkoFLtIZGaJl"
      },
      "source": [
        "## Step 1: Implement the ResNeXT architecture\n",
        "Pay close attention to the grouped convolutions and cardinality parameter. Using inbuild ResNeXt model won’t be considered for evaluation."
      ]
    },
    {
      "cell_type": "code",
      "execution_count": null,
      "metadata": {
        "id": "F5KWKnjaGaJl"
      },
      "outputs": [],
      "source": [
        "class ResNeXtBlock(nn.Module):\n",
        "    def __init__(self, in_channels, out_channels, stride=1, cardinality=32, base_width=8):\n",
        "        super(ResNeXtBlock, self).__init__()\n",
        "        D = int(out_channels / 2)  # bottleneck\n",
        "        C = cardinality #changed to 16 from the default 32\n",
        "        W = base_width\n",
        "\n",
        "        self.conv_reduce = nn.Conv2d(in_channels, C * W, kernel_size=1, stride=1, bias=False)\n",
        "        self.bn_reduce = nn.BatchNorm2d(C * W)\n",
        "\n",
        "        self.conv_conv = nn.Conv2d(C * W, C * W, kernel_size=3, stride=stride, padding=1, groups=C, bias=False)\n",
        "        self.bn = nn.BatchNorm2d(C * W)\n",
        "\n",
        "        self.conv_expand = nn.Conv2d(C * W, out_channels, kernel_size=1, stride=1, bias=False)\n",
        "        self.bn_expand = nn.BatchNorm2d(out_channels)\n",
        "\n",
        "        self.shortcut = nn.Sequential()\n",
        "        if stride != 1 or in_channels != out_channels:\n",
        "            self.shortcut = nn.Sequential(\n",
        "                nn.Conv2d(in_channels, out_channels, kernel_size=1, stride=stride, bias=False),\n",
        "                nn.BatchNorm2d(out_channels)\n",
        "            )\n",
        "\n",
        "        self.relu = nn.ReLU(inplace=True)\n",
        "\n",
        "    def forward(self, x):\n",
        "        shortcut = self.shortcut(x)\n",
        "        out = self.relu(self.bn_reduce(self.conv_reduce(x)))\n",
        "        out = self.relu(self.bn(self.conv_conv(out)))\n",
        "        out = self.bn_expand(self.conv_expand(out))\n",
        "        out += shortcut\n",
        "        return self.relu(out)\n",
        "\n",
        "class ResNeXt(nn.Module):\n",
        "    def __init__(self, num_classes=3):\n",
        "        super(ResNeXt, self).__init__()\n",
        "\n",
        "        self.stem = nn.Sequential(\n",
        "            nn.Conv2d(3, 64, kernel_size=3, stride=1, padding=1, bias=False),\n",
        "            nn.BatchNorm2d(64),\n",
        "            nn.ReLU(inplace=True)\n",
        "        )\n",
        "\n",
        "        self.layer1 = self._make_layer(64, 128, stride=1, num_blocks=2)\n",
        "        self.layer2 = self._make_layer(128, 256, stride=2, num_blocks=2)\n",
        "        self.layer3 = self._make_layer(256, 512, stride=2, num_blocks=2)\n",
        "\n",
        "        self.pool = nn.AdaptiveAvgPool2d((1, 1))\n",
        "        self.fc = nn.Linear(512, num_classes)\n",
        "\n",
        "    def _make_layer(self, in_channels, out_channels, stride, num_blocks):\n",
        "        layers = []\n",
        "        layers.append(ResNeXtBlock(in_channels, out_channels, stride=stride))\n",
        "        for _ in range(1, num_blocks):\n",
        "            layers.append(ResNeXtBlock(out_channels, out_channels, stride=1))\n",
        "        return nn.Sequential(*layers)\n",
        "\n",
        "    def forward(self, x):\n",
        "        x = self.stem(x)\n",
        "        x = self.layer1(x)\n",
        "        x = self.layer2(x)\n",
        "        x = self.layer3(x)\n",
        "        x = self.pool(x)\n",
        "        x = x.view(x.size(0), -1)\n",
        "        return self.fc(x)"
      ]
    },
    {
      "cell_type": "markdown",
      "metadata": {
        "id": "v6ljkfXuGaJm"
      },
      "source": [
        "## Step 2: Train and evaluate your ResNeXt model\n"
      ]
    },
    {
      "cell_type": "code",
      "execution_count": null,
      "metadata": {
        "id": "yMOKDbb7GaJm"
      },
      "outputs": [],
      "source": [
        "def train_model(model, criterion, optimizer, scheduler, dataloaders, num_epochs=10):\n",
        "    device = torch.device(\"cuda\" if torch.cuda.is_available() else \"cpu\")\n",
        "    model.to(device)\n",
        "\n",
        "    history = {\"train_loss\": [], \"val_loss\": [], \"train_acc\": [], \"val_acc\": []}\n",
        "\n",
        "    for epoch in range(num_epochs):\n",
        "        for phase in ['train', 'val']:\n",
        "            model.train() if phase == 'train' else model.eval()\n",
        "            loader = dataloaders[phase]\n",
        "\n",
        "            running_loss, running_corrects = 0.0, 0\n",
        "            for inputs, labels in loader:\n",
        "                inputs, labels = inputs.to(device), labels.to(device)\n",
        "                optimizer.zero_grad()\n",
        "                with torch.set_grad_enabled(phase == 'train'):\n",
        "                    outputs = model(inputs)\n",
        "                    loss = criterion(outputs, labels)\n",
        "                    _, preds = torch.max(outputs, 1)\n",
        "                    if phase == 'train':\n",
        "                        loss.backward()\n",
        "                        optimizer.step()\n",
        "\n",
        "                running_loss += loss.item() * inputs.size(0)\n",
        "                running_corrects += torch.sum(preds == labels.data)\n",
        "\n",
        "            epoch_loss = running_loss / len(loader.dataset)\n",
        "            epoch_acc = running_corrects.double() / len(loader.dataset)\n",
        "\n",
        "            history[f\"{phase}_loss\"].append(epoch_loss)\n",
        "            history[f\"{phase}_acc\"].append(epoch_acc.item())\n",
        "            print(f\"{phase} Epoch {epoch+1}/{num_epochs}, Loss: {epoch_loss:.4f}, Acc: {epoch_acc:.4f}\")\n",
        "\n",
        "        scheduler.step()\n",
        "    return model, history\n"
      ]
    },
    {
      "cell_type": "code",
      "source": [
        "def evaluate_model(model, test_loader):\n",
        "    model.eval()\n",
        "    device = next(model.parameters()).device\n",
        "    y_true, y_pred = [], []\n",
        "\n",
        "    with torch.no_grad():\n",
        "        for inputs, labels in test_loader:\n",
        "            inputs, labels = inputs.to(device), labels.to(device)\n",
        "            outputs = model(inputs)\n",
        "            _, preds = torch.max(outputs, 1)\n",
        "            y_true.extend(labels.cpu().tolist())\n",
        "            y_pred.extend(preds.cpu().tolist())\n",
        "\n",
        "    accuracy = np.mean(np.array(y_true) == np.array(y_pred)) * 100\n",
        "    print(f\"Test Accuracy: {accuracy:.2f}%\")\n",
        "\n",
        "    cm = confusion_matrix(y_true, y_pred)\n",
        "    sns.heatmap(cm, annot=True, fmt='d', xticklabels=class_names, yticklabels=class_names)\n",
        "    plt.title(\"Confusion Matrix\")\n",
        "    plt.xlabel(\"Predicted\")\n",
        "    plt.ylabel(\"True\")\n",
        "    plt.show()\n",
        "\n",
        "    precision, recall, f1, _ = precision_recall_fscore_support(y_true, y_pred, average=None)\n",
        "    for i, cls in enumerate(class_names):\n",
        "        print(f\"{cls} → Precision: {precision[i]:.2f}, Recall: {recall[i]:.2f}, F1: {f1[i]:.2f}\")\n",
        "\n",
        "    return accuracy, precision.mean(), recall.mean(), f1.mean()\n"
      ],
      "metadata": {
        "id": "7pIe7sNPRvLF"
      },
      "execution_count": null,
      "outputs": []
    },
    {
      "cell_type": "code",
      "source": [
        "model = ResNeXt(num_classes=3)\n",
        "criterion = nn.CrossEntropyLoss(label_smoothing=0.1)\n",
        "init_type = 'he'\n",
        "if init_type == 'xavier':\n",
        "    for m in model.modules():\n",
        "        if isinstance(m, nn.Conv2d) or isinstance(m, nn.Linear):\n",
        "            nn.init.xavier_uniform_(m.weight)\n",
        "elif init_type == 'he':\n",
        "    for m in model.modules():\n",
        "        if isinstance(m, nn.Conv2d) or isinstance(m, nn.Linear):\n",
        "            nn.init.kaiming_uniform_(m.weight, nonlinearity='relu')\n",
        "\n",
        "optimizer = optim.Adam(model.parameters(), lr=0.001, weight_decay=1e-4)\n",
        "scheduler = optim.lr_scheduler.StepLR(optimizer, step_size=5, gamma=0.5)"
      ],
      "metadata": {
        "id": "MDBFlftKRykA"
      },
      "execution_count": null,
      "outputs": []
    },
    {
      "cell_type": "code",
      "source": [
        "batch_size = 64\n",
        "train_loader, val_loader, test_loader = get_loaders(batch_size, train_set, val_set, test_set)\n",
        "dataloaders = {\"train\": train_loader, \"val\": val_loader}\n",
        "\n",
        "model, history = train_model(model, criterion, optimizer, scheduler, dataloaders, num_epochs=40)"
      ],
      "metadata": {
        "colab": {
          "base_uri": "https://localhost:8080/"
        },
        "id": "hLCRzMJ8SMeh",
        "outputId": "0d6c2b9e-1842-4c25-aa02-fd23208aa03a"
      },
      "execution_count": null,
      "outputs": [
        {
          "output_type": "stream",
          "name": "stdout",
          "text": [
            "train Epoch 1/40, Loss: 0.6299, Acc: 0.8149\n",
            "val Epoch 1/40, Loss: 0.5904, Acc: 0.8362\n",
            "train Epoch 2/40, Loss: 0.5367, Acc: 0.8733\n",
            "val Epoch 2/40, Loss: 0.5799, Acc: 0.8620\n",
            "train Epoch 3/40, Loss: 0.5000, Acc: 0.8977\n",
            "val Epoch 3/40, Loss: 0.5207, Acc: 0.8818\n",
            "train Epoch 4/40, Loss: 0.4797, Acc: 0.9095\n",
            "val Epoch 4/40, Loss: 0.4991, Acc: 0.8987\n",
            "train Epoch 5/40, Loss: 0.4651, Acc: 0.9176\n",
            "val Epoch 5/40, Loss: 0.5054, Acc: 0.8973\n",
            "train Epoch 6/40, Loss: 0.4400, Acc: 0.9303\n",
            "val Epoch 6/40, Loss: 0.4462, Acc: 0.9311\n",
            "train Epoch 7/40, Loss: 0.4327, Acc: 0.9350\n",
            "val Epoch 7/40, Loss: 0.4406, Acc: 0.9293\n",
            "train Epoch 8/40, Loss: 0.4235, Acc: 0.9412\n",
            "val Epoch 8/40, Loss: 0.4596, Acc: 0.9267\n",
            "train Epoch 9/40, Loss: 0.4226, Acc: 0.9405\n",
            "val Epoch 9/40, Loss: 0.4907, Acc: 0.9000\n",
            "train Epoch 10/40, Loss: 0.4186, Acc: 0.9453\n",
            "val Epoch 10/40, Loss: 0.4412, Acc: 0.9316\n",
            "train Epoch 11/40, Loss: 0.4016, Acc: 0.9533\n",
            "val Epoch 11/40, Loss: 0.4106, Acc: 0.9460\n",
            "train Epoch 12/40, Loss: 0.3983, Acc: 0.9560\n",
            "val Epoch 12/40, Loss: 0.4148, Acc: 0.9462\n",
            "train Epoch 13/40, Loss: 0.3930, Acc: 0.9588\n",
            "val Epoch 13/40, Loss: 0.4090, Acc: 0.9489\n",
            "train Epoch 14/40, Loss: 0.3924, Acc: 0.9598\n",
            "val Epoch 14/40, Loss: 0.4111, Acc: 0.9458\n",
            "train Epoch 15/40, Loss: 0.3885, Acc: 0.9626\n",
            "val Epoch 15/40, Loss: 0.4000, Acc: 0.9504\n",
            "train Epoch 16/40, Loss: 0.3780, Acc: 0.9662\n",
            "val Epoch 16/40, Loss: 0.3903, Acc: 0.9602\n",
            "train Epoch 17/40, Loss: 0.3766, Acc: 0.9671\n",
            "val Epoch 17/40, Loss: 0.3981, Acc: 0.9496\n",
            "train Epoch 18/40, Loss: 0.3743, Acc: 0.9698\n",
            "val Epoch 18/40, Loss: 0.3909, Acc: 0.9578\n",
            "train Epoch 19/40, Loss: 0.3706, Acc: 0.9714\n",
            "val Epoch 19/40, Loss: 0.3938, Acc: 0.9540\n",
            "train Epoch 20/40, Loss: 0.3709, Acc: 0.9729\n",
            "val Epoch 20/40, Loss: 0.3937, Acc: 0.9551\n",
            "train Epoch 21/40, Loss: 0.3639, Acc: 0.9761\n",
            "val Epoch 21/40, Loss: 0.3862, Acc: 0.9598\n",
            "train Epoch 22/40, Loss: 0.3615, Acc: 0.9775\n",
            "val Epoch 22/40, Loss: 0.3858, Acc: 0.9609\n",
            "train Epoch 23/40, Loss: 0.3610, Acc: 0.9765\n",
            "val Epoch 23/40, Loss: 0.3871, Acc: 0.9564\n",
            "train Epoch 24/40, Loss: 0.3607, Acc: 0.9785\n",
            "val Epoch 24/40, Loss: 0.3849, Acc: 0.9584\n",
            "train Epoch 25/40, Loss: 0.3592, Acc: 0.9788\n",
            "val Epoch 25/40, Loss: 0.3909, Acc: 0.9527\n",
            "train Epoch 26/40, Loss: 0.3568, Acc: 0.9800\n",
            "val Epoch 26/40, Loss: 0.3793, Acc: 0.9618\n",
            "train Epoch 27/40, Loss: 0.3560, Acc: 0.9810\n",
            "val Epoch 27/40, Loss: 0.3840, Acc: 0.9600\n",
            "train Epoch 28/40, Loss: 0.3550, Acc: 0.9812\n",
            "val Epoch 28/40, Loss: 0.3838, Acc: 0.9602\n",
            "train Epoch 29/40, Loss: 0.3552, Acc: 0.9816\n",
            "val Epoch 29/40, Loss: 0.3858, Acc: 0.9593\n",
            "train Epoch 30/40, Loss: 0.3550, Acc: 0.9804\n",
            "val Epoch 30/40, Loss: 0.3834, Acc: 0.9622\n",
            "train Epoch 31/40, Loss: 0.3525, Acc: 0.9818\n",
            "val Epoch 31/40, Loss: 0.3795, Acc: 0.9636\n",
            "train Epoch 32/40, Loss: 0.3518, Acc: 0.9831\n",
            "val Epoch 32/40, Loss: 0.3822, Acc: 0.9629\n",
            "train Epoch 33/40, Loss: 0.3511, Acc: 0.9834\n",
            "val Epoch 33/40, Loss: 0.3832, Acc: 0.9567\n",
            "train Epoch 34/40, Loss: 0.3512, Acc: 0.9828\n",
            "val Epoch 34/40, Loss: 0.3826, Acc: 0.9596\n",
            "train Epoch 35/40, Loss: 0.3518, Acc: 0.9827\n",
            "val Epoch 35/40, Loss: 0.3830, Acc: 0.9618\n",
            "train Epoch 36/40, Loss: 0.3510, Acc: 0.9839\n",
            "val Epoch 36/40, Loss: 0.3804, Acc: 0.9616\n",
            "train Epoch 37/40, Loss: 0.3494, Acc: 0.9843\n",
            "val Epoch 37/40, Loss: 0.3810, Acc: 0.9627\n",
            "train Epoch 38/40, Loss: 0.3513, Acc: 0.9841\n",
            "val Epoch 38/40, Loss: 0.3801, Acc: 0.9609\n",
            "train Epoch 39/40, Loss: 0.3494, Acc: 0.9840\n",
            "val Epoch 39/40, Loss: 0.3801, Acc: 0.9624\n",
            "train Epoch 40/40, Loss: 0.3479, Acc: 0.9850\n",
            "val Epoch 40/40, Loss: 0.3814, Acc: 0.9638\n"
          ]
        }
      ]
    },
    {
      "cell_type": "code",
      "source": [
        "class_names = aug_dataset.classes\n",
        "test_loss, test_acc, all_preds, all_labels = evaluate_model(model, test_loader)"
      ],
      "metadata": {
        "colab": {
          "base_uri": "https://localhost:8080/",
          "height": 543
        },
        "id": "tL_gK3FKSYDH",
        "outputId": "99f6c4ae-8af0-4647-ca6d-581c0caec83c"
      },
      "execution_count": null,
      "outputs": [
        {
          "output_type": "stream",
          "name": "stdout",
          "text": [
            "Test Accuracy: 96.53%\n"
          ]
        },
        {
          "output_type": "display_data",
          "data": {
            "text/plain": [
              "<Figure size 640x480 with 2 Axes>"
            ],
            "image/png": "[encoded data removed]"
          },
          "metadata": {}
        },
        {
          "output_type": "stream",
          "name": "stdout",
          "text": [
            "dogs → Precision: 0.97, Recall: 0.96, F1: 0.96\n",
            "food → Precision: 0.96, Recall: 0.96, F1: 0.96\n",
            "vehicles → Precision: 0.97, Recall: 0.97, F1: 0.97\n"
          ]
        }
      ]
    },
    {
      "cell_type": "code",
      "source": [
        "torch.save(model.state_dict(), 'a1_bonus_resnext_aarushij_singh72.pth')\n"
      ],
      "metadata": {
        "id": "3o5X5J-mngE7"
      },
      "execution_count": null,
      "outputs": []
    },
    {
      "cell_type": "markdown",
      "metadata": {
        "id": "3grXDUDfGaJm"
      },
      "source": [
        "## Step 3: Compare the performance of your ResNeXt model\n"
      ]
    },
    {
      "cell_type": "markdown",
      "metadata": {
        "id": "57ZXLBO5GaJm"
      },
      "source": [
        "### a. A table summarizing the performance metrics (accuracy, loss, etc.) for all three models."
      ]
    },
    {
      "cell_type": "markdown",
      "metadata": {
        "id": "jOFCU6S0GaJm"
      },
      "source": [
        "### Model Performance Summary\n",
        "\n",
        "| Model        | Final Train Accuracy | Final Val Accuracy | Final Test Accuracy | Final Train Loss | Final Val Loss |\n",
        "|--------------|----------------------|---------------------|----------------------|------------------|----------------|\n",
        "| VGG-16     |     96.99%            |   94.07%             |     94.11           |          0.3511   |       0.4029    |\n",
        "| ResNet-18    |    98.69%          |          96.89%  |          96.38%     |     0.3191     |      0.3489    |\n",
        "| ResNeXt-50   |               98.50%  | 96.38%              | 96.53%                | 0.3479         | 0.3814      |\n",
        "\n"
      ]
    },
    {
      "cell_type": "markdown",
      "metadata": {
        "id": "qAra_JhoGaJm"
      },
      "source": [
        "### b. Discussion of the observed differences in performance.\n",
        "Explain why ResNeXt might be outperforming ResNet and VGG. Consider factors like cardinality, grouped convolutions, and the overall architecture."
      ]
    },
    {
      "cell_type": "markdown",
      "metadata": {
        "id": "5ReNH3TNGaJm"
      },
      "source": [
        "ResNext performs better then ResNet and VGG as it alloes the model to learn featurs in parallel (grouped convolutions) which lowers the computational complexity.  Cardinality is the size of the set of transformations(ResNext paper abstract) which is a better parameter then increasing depth or width."
      ]
    },
    {
      "cell_type": "markdown",
      "metadata": {
        "id": "DrqLq8FSGaJm"
      },
      "source": [
        "\n",
        "### c. Analysis of any challenges encountered during the implementation or training process."
      ]
    },
    {
      "cell_type": "markdown",
      "metadata": {
        "id": "oz51v_l2GaJm"
      },
      "source": [
        "While implementing ResNeXt, using the default base width of 4 led to poor performance and high computational cost due to the small image size (64×64). increasing it to 8 improved training stability and validation accuracy.\n"
      ]
    },
    {
      "cell_type": "markdown",
      "metadata": {
        "id": "NUFxkXVwGaJm"
      },
      "source": [
        "### d. Provide detailed analysis of the results."
      ]
    },
    {
      "cell_type": "markdown",
      "source": [
        "ResNeXt-50 achieved 98.50% train accuracy, 96.38% validation accuracy, and 96.52% test accuracy, outperforming both VGG-16 and ResNet-18. Its low train (0.3479) and validation loss (0.3814) indicate strong learning and generalization."
      ],
      "metadata": {
        "id": "qfNUnmn3mrOX"
      }
    },
    {
      "cell_type": "markdown",
      "metadata": {
        "id": "wNtmN7LQGaJn"
      },
      "source": [
        "### 4.\tReferences"
      ]
    },
    {
      "cell_type": "markdown",
      "metadata": {
        "id": "GK4Z_aZFGaJn"
      },
      "source": [
        "\n",
        "\n",
        "*   ResNext Paper\n",
        "https://arxiv.org/abs/1611.05431\n",
        "*   https://www.geeksforgeeks.org/resnext-architecture-in-computer-vision/\n",
        "*   Google Colab's inbuilt AI assisstant Gemini was used for debugging.\n",
        "\n",
        "\n",
        "\n",
        "\n"
      ]
    }
  ],
  "metadata": {
    "kernelspec": {
      "display_name": "Python 3",
      "name": "python3"
    },
    "language_info": {
      "codemirror_mode": {
        "name": "ipython",
        "version": 3
      },
      "file_extension": ".py",
      "mimetype": "text/x-python",
      "name": "python",
      "nbconvert_exporter": "python",
      "pygments_lexer": "ipython3",
      "version": "3.8.5"
    },
    "colab": {
      "provenance": [],
      "gpuType": "T4"
    },
    "accelerator": "GPU"
  },
  "nbformat": 4,
  "nbformat_minor": 0
}
